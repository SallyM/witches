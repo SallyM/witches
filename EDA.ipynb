{
 "cells": [
  {
   "cell_type": "code",
   "execution_count": 1,
   "metadata": {
    "collapsed": true
   },
   "outputs": [],
   "source": [
    "import pandas as pd\n",
    "import numpy as np\n",
    "import matplotlib.pyplot as plt\n",
    "import os\n",
    "%matplotlib inline"
   ]
  },
  {
   "cell_type": "code",
   "execution_count": 2,
   "metadata": {
    "collapsed": true
   },
   "outputs": [],
   "source": [
    "list_files = os.listdir('datasets/history-scottish-witchcraft/')"
   ]
  },
  {
   "cell_type": "code",
   "execution_count": 3,
   "metadata": {
    "collapsed": true
   },
   "outputs": [],
   "source": [
    "def create_dfs(list_files):\n",
    "    dfs_dict = {}\n",
    "    for filename in list_files:\n",
    "        if filename[-4:] == '.csv':\n",
    "            df_name = filename[4:-4]\n",
    "            dfs_dict[df_name] = pd.read_csv('datasets/history-scottish-witchcraft/{}'.format(filename))\n",
    "    return dfs_dict"
   ]
  },
  {
   "cell_type": "code",
   "execution_count": 5,
   "metadata": {
    "collapsed": false,
    "scrolled": true
   },
   "outputs": [],
   "source": [
    "all_dfs = create_dfs(list_files)"
   ]
  },
  {
   "cell_type": "code",
   "execution_count": 6,
   "metadata": {
    "collapsed": false,
    "scrolled": false
   },
   "outputs": [
    {
     "data": {
      "text/plain": [
       "['MovestoHLA',\n",
       " 'CalendarCustom',\n",
       " 'Imprisonment',\n",
       " 'MentionedAsWitch',\n",
       " 'RitualObject',\n",
       " 'Commission',\n",
       " 'ReligiousMotif',\n",
       " 'DevilAppearance',\n",
       " 'Appeal',\n",
       " 'OtherNamedwitch',\n",
       " 'ShapeChanging',\n",
       " 'Complaint',\n",
       " 'WitchesMeetingPlace',\n",
       " 'Torture',\n",
       " 'Elf_FairyElements',\n",
       " 'WeatherModification',\n",
       " 'Ref_Parish',\n",
       " 'Trial_Person',\n",
       " 'Case',\n",
       " 'PropertyDamage',\n",
       " 'PrevCommission',\n",
       " 'DemonicPact',\n",
       " 'Ordeal',\n",
       " 'Person',\n",
       " 'Denunciation',\n",
       " 'Trial',\n",
       " 'WhiteMagic',\n",
       " 'MusicalInstrument',\n",
       " 'Reference',\n",
       " 'Source',\n",
       " 'Confession',\n",
       " 'CounterStrategy',\n",
       " 'Malice',\n",
       " 'Case_person',\n",
       " 'Accused',\n",
       " 'LinkedTrial',\n",
       " 'Accused_family',\n",
       " 'OtherCharges']"
      ]
     },
     "execution_count": 6,
     "metadata": {},
     "output_type": "execute_result"
    }
   ],
   "source": [
    "all_dfs.keys()"
   ]
  },
  {
   "cell_type": "code",
   "execution_count": 50,
   "metadata": {
    "collapsed": true
   },
   "outputs": [],
   "source": [
    "accused = all_dfs['Accused']"
   ]
  },
  {
   "cell_type": "code",
   "execution_count": 53,
   "metadata": {
    "collapsed": false,
    "scrolled": true
   },
   "outputs": [
    {
     "data": {
      "text/html": [
       "<div>\n",
       "<table border=\"1\" class=\"dataframe\">\n",
       "  <thead>\n",
       "    <tr style=\"text-align: right;\">\n",
       "      <th></th>\n",
       "      <th>AccusedRef</th>\n",
       "      <th>AccusedSystemId</th>\n",
       "      <th>AccusedID</th>\n",
       "      <th>FirstName</th>\n",
       "      <th>LastName</th>\n",
       "      <th>M_Firstname</th>\n",
       "      <th>M_Surname</th>\n",
       "      <th>Alias</th>\n",
       "      <th>Patronymic</th>\n",
       "      <th>DesTitle</th>\n",
       "      <th>...</th>\n",
       "      <th>Res_NGR_Northing</th>\n",
       "      <th>Ethnic_origin</th>\n",
       "      <th>MaritalStatus</th>\n",
       "      <th>SocioecStatus</th>\n",
       "      <th>Occupation</th>\n",
       "      <th>Notes</th>\n",
       "      <th>Createdby</th>\n",
       "      <th>Createdate</th>\n",
       "      <th>Lastupdatedby</th>\n",
       "      <th>Lastupdatedon</th>\n",
       "    </tr>\n",
       "  </thead>\n",
       "  <tbody>\n",
       "    <tr>\n",
       "      <th>0</th>\n",
       "      <td>A/EGD/10</td>\n",
       "      <td>EGD</td>\n",
       "      <td>10</td>\n",
       "      <td>Mareon</td>\n",
       "      <td>Quheitt</td>\n",
       "      <td>Marion</td>\n",
       "      <td>White</td>\n",
       "      <td>NaN</td>\n",
       "      <td>NaN</td>\n",
       "      <td>NaN</td>\n",
       "      <td>...</td>\n",
       "      <td>NaN</td>\n",
       "      <td>NaN</td>\n",
       "      <td>NaN</td>\n",
       "      <td>NaN</td>\n",
       "      <td>NaN</td>\n",
       "      <td>NaN</td>\n",
       "      <td>SMD</td>\n",
       "      <td>05/15/01 11:06:51</td>\n",
       "      <td>jhm</td>\n",
       "      <td>08/09/02 11:40:51</td>\n",
       "    </tr>\n",
       "  </tbody>\n",
       "</table>\n",
       "<p>1 rows × 31 columns</p>\n",
       "</div>"
      ],
      "text/plain": [
       "  AccusedRef AccusedSystemId  AccusedID FirstName LastName M_Firstname  \\\n",
       "0   A/EGD/10             EGD         10    Mareon  Quheitt      Marion   \n",
       "\n",
       "  M_Surname Alias Patronymic DesTitle        ...         Res_NGR_Northing  \\\n",
       "0     White   NaN        NaN      NaN        ...                      NaN   \n",
       "\n",
       "   Ethnic_origin  MaritalStatus  SocioecStatus Occupation Notes Createdby  \\\n",
       "0            NaN            NaN            NaN        NaN   NaN       SMD   \n",
       "\n",
       "          Createdate Lastupdatedby      Lastupdatedon  \n",
       "0  05/15/01 11:06:51           jhm  08/09/02 11:40:51  \n",
       "\n",
       "[1 rows x 31 columns]"
      ]
     },
     "execution_count": 53,
     "metadata": {},
     "output_type": "execute_result"
    }
   ],
   "source": [
    "accused.head(1)"
   ]
  },
  {
   "cell_type": "code",
   "execution_count": 55,
   "metadata": {
    "collapsed": false,
    "scrolled": false
   },
   "outputs": [
    {
     "data": {
      "text/plain": [
       "Index([u'AccusedRef', u'AccusedSystemId', u'AccusedID', u'FirstName',\n",
       "       u'LastName', u'M_Firstname', u'M_Surname', u'Alias', u'Patronymic',\n",
       "       u'DesTitle', u'Sex', u'Age', u'Age_estcareer', u'Age_estchild',\n",
       "       u'Res_settlement', u'Res_parish', u'Res_presbytery', u'Res_county',\n",
       "       u'Res_burgh', u'Res_NGR_Letters', u'Res_NGR_Easting',\n",
       "       u'Res_NGR_Northing', u'Ethnic_origin', u'MaritalStatus',\n",
       "       u'SocioecStatus', u'Occupation', u'Notes', u'Createdby', u'Createdate',\n",
       "       u'Lastupdatedby', u'Lastupdatedon'],\n",
       "      dtype='object')"
      ]
     },
     "execution_count": 55,
     "metadata": {},
     "output_type": "execute_result"
    }
   ],
   "source": [
    "accused.columns"
   ]
  },
  {
   "cell_type": "code",
   "execution_count": 56,
   "metadata": {
    "collapsed": true
   },
   "outputs": [],
   "source": [
    "family = all_dfs['Accused_family']"
   ]
  },
  {
   "cell_type": "code",
   "execution_count": 57,
   "metadata": {
    "collapsed": false
   },
   "outputs": [
    {
     "data": {
      "text/html": [
       "<div>\n",
       "<table border=\"1\" class=\"dataframe\">\n",
       "  <thead>\n",
       "    <tr style=\"text-align: right;\">\n",
       "      <th></th>\n",
       "      <th>Accused_familyRef</th>\n",
       "      <th>Accused_familySystemId</th>\n",
       "      <th>Accused_familyID</th>\n",
       "      <th>Surname</th>\n",
       "      <th>Firstname</th>\n",
       "      <th>Alias</th>\n",
       "      <th>Patronymic</th>\n",
       "      <th>DesTitle</th>\n",
       "      <th>Est_Year_of_Birth</th>\n",
       "      <th>Age</th>\n",
       "      <th>Age_estcareer</th>\n",
       "      <th>Age_estchild</th>\n",
       "      <th>Occupation</th>\n",
       "      <th>Relationship</th>\n",
       "      <th>AccusedRef</th>\n",
       "      <th>Createdby</th>\n",
       "      <th>Createdate</th>\n",
       "      <th>Lastupdatedby</th>\n",
       "      <th>Lastupdatedon</th>\n",
       "    </tr>\n",
       "  </thead>\n",
       "  <tbody>\n",
       "    <tr>\n",
       "      <th>0</th>\n",
       "      <td>AF/JO/1</td>\n",
       "      <td>JO</td>\n",
       "      <td>1</td>\n",
       "      <td>Leyis</td>\n",
       "      <td>John</td>\n",
       "      <td>NaN</td>\n",
       "      <td>NaN</td>\n",
       "      <td>NaN</td>\n",
       "      <td>NaN</td>\n",
       "      <td>NaN</td>\n",
       "      <td>0</td>\n",
       "      <td>0</td>\n",
       "      <td>stabler</td>\n",
       "      <td>husband</td>\n",
       "      <td>A/EGD/2067</td>\n",
       "      <td>jhm</td>\n",
       "      <td>05/16/01 14:45:56</td>\n",
       "      <td>jhm</td>\n",
       "      <td>05/16/01 14:48:31</td>\n",
       "    </tr>\n",
       "  </tbody>\n",
       "</table>\n",
       "</div>"
      ],
      "text/plain": [
       "  Accused_familyRef Accused_familySystemId  Accused_familyID Surname  \\\n",
       "0           AF/JO/1                     JO                 1   Leyis   \n",
       "\n",
       "  Firstname Alias Patronymic DesTitle  Est_Year_of_Birth  Age  Age_estcareer  \\\n",
       "0      John   NaN        NaN      NaN                NaN  NaN              0   \n",
       "\n",
       "   Age_estchild Occupation Relationship  AccusedRef Createdby  \\\n",
       "0             0    stabler      husband  A/EGD/2067       jhm   \n",
       "\n",
       "          Createdate Lastupdatedby      Lastupdatedon  \n",
       "0  05/16/01 14:45:56           jhm  05/16/01 14:48:31  "
      ]
     },
     "execution_count": 57,
     "metadata": {},
     "output_type": "execute_result"
    }
   ],
   "source": [
    "family.head(1)"
   ]
  },
  {
   "cell_type": "code",
   "execution_count": 59,
   "metadata": {
    "collapsed": false
   },
   "outputs": [
    {
     "data": {
      "text/plain": [
       "(951, 19)"
      ]
     },
     "execution_count": 59,
     "metadata": {},
     "output_type": "execute_result"
    }
   ],
   "source": [
    "family.shape"
   ]
  },
  {
   "cell_type": "code",
   "execution_count": 60,
   "metadata": {
    "collapsed": true
   },
   "outputs": [],
   "source": [
    "mentioned = all_dfs['MentionedAsWitch']"
   ]
  },
  {
   "cell_type": "code",
   "execution_count": 65,
   "metadata": {
    "collapsed": false
   },
   "outputs": [
    {
     "data": {
      "text/html": [
       "<div>\n",
       "<table border=\"1\" class=\"dataframe\">\n",
       "  <thead>\n",
       "    <tr style=\"text-align: right;\">\n",
       "      <th></th>\n",
       "      <th>MentionRef</th>\n",
       "      <th>MentionSystemId</th>\n",
       "      <th>MentionID</th>\n",
       "      <th>Trialref</th>\n",
       "      <th>Mentiondate</th>\n",
       "      <th>Mentiondate_as_date</th>\n",
       "      <th>Mentiontype</th>\n",
       "      <th>TrialOfAccusedRef</th>\n",
       "      <th>TrialOfFirstName</th>\n",
       "      <th>TrialOfLastName</th>\n",
       "      <th>MentionedInTrialOfRef</th>\n",
       "      <th>dateOfMentionedTrial</th>\n",
       "      <th>dateOfMentionedTrial_as_date</th>\n",
       "      <th>FateOfMentionedWitch</th>\n",
       "      <th>Notes</th>\n",
       "      <th>Createdby</th>\n",
       "      <th>Createdate</th>\n",
       "      <th>Lastupdatedby</th>\n",
       "      <th>Lastupdatedon</th>\n",
       "    </tr>\n",
       "  </thead>\n",
       "  <tbody>\n",
       "    <tr>\n",
       "      <th>0</th>\n",
       "      <td>MW/JO/1</td>\n",
       "      <td>JO</td>\n",
       "      <td>1</td>\n",
       "      <td>T/JO/4</td>\n",
       "      <td>23/2/1597</td>\n",
       "      <td>02/23/97 00:00:00</td>\n",
       "      <td>Accomplice</td>\n",
       "      <td>A/EGD/2068</td>\n",
       "      <td>Thomas</td>\n",
       "      <td>Leyis</td>\n",
       "      <td>T/JO/3</td>\n",
       "      <td>17/2/1597</td>\n",
       "      <td>02/17/97 00:00:00</td>\n",
       "      <td>Burnt</td>\n",
       "      <td>NaN</td>\n",
       "      <td>jhm</td>\n",
       "      <td>05/17/01 16:31:34</td>\n",
       "      <td>LEM</td>\n",
       "      <td>09/09/02 15:07:04</td>\n",
       "    </tr>\n",
       "  </tbody>\n",
       "</table>\n",
       "</div>"
      ],
      "text/plain": [
       "  MentionRef MentionSystemId  MentionID Trialref Mentiondate  \\\n",
       "0    MW/JO/1              JO          1   T/JO/4   23/2/1597   \n",
       "\n",
       "  Mentiondate_as_date Mentiontype TrialOfAccusedRef TrialOfFirstName  \\\n",
       "0   02/23/97 00:00:00  Accomplice        A/EGD/2068           Thomas   \n",
       "\n",
       "  TrialOfLastName MentionedInTrialOfRef dateOfMentionedTrial  \\\n",
       "0           Leyis                T/JO/3            17/2/1597   \n",
       "\n",
       "  dateOfMentionedTrial_as_date FateOfMentionedWitch Notes Createdby  \\\n",
       "0            02/17/97 00:00:00                Burnt   NaN       jhm   \n",
       "\n",
       "          Createdate Lastupdatedby      Lastupdatedon  \n",
       "0  05/17/01 16:31:34           LEM  09/09/02 15:07:04  "
      ]
     },
     "execution_count": 65,
     "metadata": {},
     "output_type": "execute_result"
    }
   ],
   "source": [
    "mentioned.head(1)"
   ]
  },
  {
   "cell_type": "code",
   "execution_count": 64,
   "metadata": {
    "collapsed": false
   },
   "outputs": [
    {
     "data": {
      "text/plain": [
       "array(['Accomplice', 'Denounced', 'Witchcraft Precedent', 'Known Witch',\n",
       "       nan, 'Previously Tried', 'Consulted', 'Hired'], dtype=object)"
      ]
     },
     "execution_count": 64,
     "metadata": {},
     "output_type": "execute_result"
    }
   ],
   "source": [
    "mentioned.Mentiontype.unique()"
   ]
  },
  {
   "cell_type": "code",
   "execution_count": 66,
   "metadata": {
    "collapsed": false
   },
   "outputs": [
    {
     "data": {
      "text/plain": [
       "array(['Burnt', nan, 'Banished', 'Set free', 'Strangled/burnt', 'executed',\n",
       "       'Dead', 'Died (natural causes)', 'Executed', 'Died in Prison',\n",
       "       'Fugitive', 'Suicide in prison', 'Died', 'Suicide'], dtype=object)"
      ]
     },
     "execution_count": 66,
     "metadata": {},
     "output_type": "execute_result"
    }
   ],
   "source": [
    "mentioned.FateOfMentionedWitch.unique()"
   ]
  },
  {
   "cell_type": "code",
   "execution_count": 12,
   "metadata": {
    "collapsed": false
   },
   "outputs": [],
   "source": [
    "malice = all_dfs['Malice']"
   ]
  },
  {
   "cell_type": "code",
   "execution_count": 33,
   "metadata": {
    "collapsed": false
   },
   "outputs": [
    {
     "data": {
      "text/html": [
       "<div>\n",
       "<table border=\"1\" class=\"dataframe\">\n",
       "  <thead>\n",
       "    <tr style=\"text-align: right;\">\n",
       "      <th></th>\n",
       "      <th>MaliceRef</th>\n",
       "      <th>MaliceSystemId</th>\n",
       "      <th>MaliceID</th>\n",
       "      <th>CaseRef</th>\n",
       "      <th>Causeofmalice</th>\n",
       "      <th>Createdby</th>\n",
       "      <th>Createdate</th>\n",
       "      <th>Lastupdatedby</th>\n",
       "      <th>Lastupdatedon</th>\n",
       "    </tr>\n",
       "  </thead>\n",
       "  <tbody>\n",
       "    <tr>\n",
       "      <th>0</th>\n",
       "      <td>MA/JO/1</td>\n",
       "      <td>JO</td>\n",
       "      <td>1</td>\n",
       "      <td>C/EGD/2120</td>\n",
       "      <td>Failed business interaction</td>\n",
       "      <td>jhm</td>\n",
       "      <td>05/16/01 17:01:25</td>\n",
       "      <td>jhm</td>\n",
       "      <td>05/16/01 17:05:02</td>\n",
       "    </tr>\n",
       "  </tbody>\n",
       "</table>\n",
       "</div>"
      ],
      "text/plain": [
       "  MaliceRef MaliceSystemId  MaliceID     CaseRef                Causeofmalice  \\\n",
       "0   MA/JO/1             JO         1  C/EGD/2120  Failed business interaction   \n",
       "\n",
       "  Createdby         Createdate Lastupdatedby      Lastupdatedon  \n",
       "0       jhm  05/16/01 17:01:25           jhm  05/16/01 17:05:02  "
      ]
     },
     "execution_count": 33,
     "metadata": {},
     "output_type": "execute_result"
    }
   ],
   "source": [
    "malice.head(1)"
   ]
  },
  {
   "cell_type": "code",
   "execution_count": 16,
   "metadata": {
    "collapsed": false
   },
   "outputs": [
    {
     "data": {
      "text/plain": [
       "array(['Failed business interaction', 'Debt', 'Jealousy of Neighbours',\n",
       "       'Revenge', 'Grudge', 'Slander', 'Social slight', 'Physical insult',\n",
       "       'Exclusion from social events', 'Refusal of alms', nan,\n",
       "       'Business interactions', 'Failed healing',\n",
       "       'Revenge for being called a witch', 'Verbal Insult', 'Taunting',\n",
       "       'Envy'], dtype=object)"
      ]
     },
     "execution_count": 16,
     "metadata": {},
     "output_type": "execute_result"
    }
   ],
   "source": [
    "malice.Causeofmalice.unique()"
   ]
  },
  {
   "cell_type": "code",
   "execution_count": 17,
   "metadata": {
    "collapsed": true
   },
   "outputs": [],
   "source": [
    "confession = all_dfs['Confession']"
   ]
  },
  {
   "cell_type": "code",
   "execution_count": 32,
   "metadata": {
    "collapsed": false,
    "scrolled": true
   },
   "outputs": [
    {
     "data": {
      "text/html": [
       "<div>\n",
       "<table border=\"1\" class=\"dataframe\">\n",
       "  <thead>\n",
       "    <tr style=\"text-align: right;\">\n",
       "      <th></th>\n",
       "      <th>ConfessionRef</th>\n",
       "      <th>ConfessionSystemId</th>\n",
       "      <th>ConfessionID</th>\n",
       "      <th>Trialref</th>\n",
       "      <th>CentralTrialConfession</th>\n",
       "      <th>Confessionrec</th>\n",
       "      <th>Confessiondate</th>\n",
       "      <th>Confessiondate_as_date</th>\n",
       "      <th>Confessionplace</th>\n",
       "      <th>Confessionlocation</th>\n",
       "      <th>Confessiontext</th>\n",
       "      <th>Confessiondetails</th>\n",
       "      <th>Confessionret</th>\n",
       "      <th>Notes</th>\n",
       "      <th>Createdby</th>\n",
       "      <th>Createdate</th>\n",
       "      <th>Lastupdatedby</th>\n",
       "      <th>Lastupdatedon</th>\n",
       "    </tr>\n",
       "  </thead>\n",
       "  <tbody>\n",
       "    <tr>\n",
       "      <th>0</th>\n",
       "      <td>CF/JO/1</td>\n",
       "      <td>JO</td>\n",
       "      <td>1</td>\n",
       "      <td>T/JO/2</td>\n",
       "      <td>0</td>\n",
       "      <td>1</td>\n",
       "      <td>19/4/1643</td>\n",
       "      <td>04/19/43 00:00:00</td>\n",
       "      <td>Church</td>\n",
       "      <td>Haddington</td>\n",
       "      <td>0</td>\n",
       "      <td>1</td>\n",
       "      <td>0</td>\n",
       "      <td>NaN</td>\n",
       "      <td>jhm</td>\n",
       "      <td>05/17/01 12:11:47</td>\n",
       "      <td>jhm</td>\n",
       "      <td>05/17/01 12:12:27</td>\n",
       "    </tr>\n",
       "  </tbody>\n",
       "</table>\n",
       "</div>"
      ],
      "text/plain": [
       "  ConfessionRef ConfessionSystemId  ConfessionID Trialref  \\\n",
       "0       CF/JO/1                 JO             1   T/JO/2   \n",
       "\n",
       "   CentralTrialConfession  Confessionrec Confessiondate  \\\n",
       "0                       0              1      19/4/1643   \n",
       "\n",
       "  Confessiondate_as_date Confessionplace Confessionlocation  Confessiontext  \\\n",
       "0      04/19/43 00:00:00          Church         Haddington               0   \n",
       "\n",
       "   Confessiondetails  Confessionret  Notes Createdby         Createdate  \\\n",
       "0                  1              0    NaN       jhm  05/17/01 12:11:47   \n",
       "\n",
       "  Lastupdatedby      Lastupdatedon  \n",
       "0           jhm  05/17/01 12:12:27  "
      ]
     },
     "execution_count": 32,
     "metadata": {},
     "output_type": "execute_result"
    }
   ],
   "source": [
    "confession.head(1)"
   ]
  },
  {
   "cell_type": "code",
   "execution_count": 21,
   "metadata": {
    "collapsed": true
   },
   "outputs": [],
   "source": [
    "moves = all_dfs['MovestoHLA']"
   ]
  },
  {
   "cell_type": "code",
   "execution_count": 31,
   "metadata": {
    "collapsed": false
   },
   "outputs": [
    {
     "data": {
      "text/html": [
       "<div>\n",
       "<table border=\"1\" class=\"dataframe\">\n",
       "  <thead>\n",
       "    <tr style=\"text-align: right;\">\n",
       "      <th></th>\n",
       "      <th>MoveRef</th>\n",
       "      <th>MoveSystemId</th>\n",
       "      <th>MoveID</th>\n",
       "      <th>Trialref</th>\n",
       "      <th>Moveto</th>\n",
       "      <th>Moveexists</th>\n",
       "      <th>Movedate</th>\n",
       "      <th>Movedate_as_date</th>\n",
       "      <th>Createdby</th>\n",
       "      <th>Createdate</th>\n",
       "      <th>Lastupdatedby</th>\n",
       "      <th>Lastupdatedon</th>\n",
       "    </tr>\n",
       "  </thead>\n",
       "  <tbody>\n",
       "    <tr>\n",
       "      <th>0</th>\n",
       "      <td>HLA/JO/10</td>\n",
       "      <td>JO</td>\n",
       "      <td>10</td>\n",
       "      <td>T/JO/342</td>\n",
       "      <td>Bishop</td>\n",
       "      <td>1</td>\n",
       "      <td>17/5/1632</td>\n",
       "      <td>05/17/32 00:00:00</td>\n",
       "      <td>jhm</td>\n",
       "      <td>07/04/01 13:35:08</td>\n",
       "      <td>jhm</td>\n",
       "      <td>07/04/01 13:35:18</td>\n",
       "    </tr>\n",
       "  </tbody>\n",
       "</table>\n",
       "</div>"
      ],
      "text/plain": [
       "     MoveRef MoveSystemId  MoveID  Trialref  Moveto  Moveexists   Movedate  \\\n",
       "0  HLA/JO/10           JO      10  T/JO/342  Bishop           1  17/5/1632   \n",
       "\n",
       "    Movedate_as_date Createdby         Createdate Lastupdatedby  \\\n",
       "0  05/17/32 00:00:00       jhm  07/04/01 13:35:08           jhm   \n",
       "\n",
       "       Lastupdatedon  \n",
       "0  07/04/01 13:35:18  "
      ]
     },
     "execution_count": 31,
     "metadata": {},
     "output_type": "execute_result"
    }
   ],
   "source": [
    "moves.head(1)"
   ]
  },
  {
   "cell_type": "code",
   "execution_count": 23,
   "metadata": {
    "collapsed": true
   },
   "outputs": [],
   "source": [
    "torture = all_dfs['Torture']"
   ]
  },
  {
   "cell_type": "code",
   "execution_count": 30,
   "metadata": {
    "collapsed": false
   },
   "outputs": [
    {
     "data": {
      "text/plain": [
       "array(['Burning feet', 'Various', 'Sleep Deprivation', 'Bound with ropes',\n",
       "       'Whip', 'Hanging by thumbs', nan, 'Stocks', 'Irons', 'Bow strings',\n",
       "       'Wedges on the shins', 'Cashielaws', 'Haircloth', 'Tied to pole'], dtype=object)"
      ]
     },
     "execution_count": 30,
     "metadata": {},
     "output_type": "execute_result"
    }
   ],
   "source": [
    "torture.Torturetype.unique()"
   ]
  },
  {
   "cell_type": "code",
   "execution_count": 34,
   "metadata": {
    "collapsed": true
   },
   "outputs": [],
   "source": [
    "imprisonment = all_dfs[\"Imprisonment\"]"
   ]
  },
  {
   "cell_type": "code",
   "execution_count": 35,
   "metadata": {
    "collapsed": false
   },
   "outputs": [
    {
     "data": {
      "text/html": [
       "<div>\n",
       "<table border=\"1\" class=\"dataframe\">\n",
       "  <thead>\n",
       "    <tr style=\"text-align: right;\">\n",
       "      <th></th>\n",
       "      <th>ImprisonRef</th>\n",
       "      <th>ImprisonSystemId</th>\n",
       "      <th>ImprisonID</th>\n",
       "      <th>Trialref</th>\n",
       "      <th>CentralTrialImprison</th>\n",
       "      <th>Imprisondate</th>\n",
       "      <th>Imprisondate_as_date</th>\n",
       "      <th>Prison</th>\n",
       "      <th>Location</th>\n",
       "      <th>Moving</th>\n",
       "      <th>Fate_in_prison</th>\n",
       "      <th>Createdby</th>\n",
       "      <th>Createdate</th>\n",
       "      <th>Lastupdatedby</th>\n",
       "      <th>Lastupdatedon</th>\n",
       "    </tr>\n",
       "  </thead>\n",
       "  <tbody>\n",
       "    <tr>\n",
       "      <th>0</th>\n",
       "      <td>IM/JO/10</td>\n",
       "      <td>JO</td>\n",
       "      <td>10</td>\n",
       "      <td>T/JO/78</td>\n",
       "      <td>0</td>\n",
       "      <td>NaN</td>\n",
       "      <td>NaN</td>\n",
       "      <td>Tolbooth</td>\n",
       "      <td>Haddington</td>\n",
       "      <td>0</td>\n",
       "      <td>NaN</td>\n",
       "      <td>jhm</td>\n",
       "      <td>06/07/01 16:20:29</td>\n",
       "      <td>LEM</td>\n",
       "      <td>10/28/02 12:45:55</td>\n",
       "    </tr>\n",
       "  </tbody>\n",
       "</table>\n",
       "</div>"
      ],
      "text/plain": [
       "  ImprisonRef ImprisonSystemId  ImprisonID Trialref  CentralTrialImprison  \\\n",
       "0    IM/JO/10               JO          10  T/JO/78                     0   \n",
       "\n",
       "  Imprisondate Imprisondate_as_date    Prison    Location  Moving  \\\n",
       "0          NaN                  NaN  Tolbooth  Haddington       0   \n",
       "\n",
       "  Fate_in_prison Createdby         Createdate Lastupdatedby      Lastupdatedon  \n",
       "0            NaN       jhm  06/07/01 16:20:29           LEM  10/28/02 12:45:55  "
      ]
     },
     "execution_count": 35,
     "metadata": {},
     "output_type": "execute_result"
    }
   ],
   "source": [
    "imprisonment.head(1)"
   ]
  },
  {
   "cell_type": "code",
   "execution_count": 36,
   "metadata": {
    "collapsed": true
   },
   "outputs": [],
   "source": [
    "devil_appearance = all_dfs['DevilAppearance']"
   ]
  },
  {
   "cell_type": "code",
   "execution_count": 45,
   "metadata": {
    "collapsed": false,
    "scrolled": false
   },
   "outputs": [],
   "source": [
    "devil_by_type = devil_appearance.groupby(\"Devil_Type\")['CaseRef'].count()"
   ]
  },
  {
   "cell_type": "code",
   "execution_count": 49,
   "metadata": {
    "collapsed": false
   },
   "outputs": [
    {
     "data": {
      "text/plain": [
       "Devil_Type\n",
       "Male                      250\n",
       "Animal Devil               60\n",
       "Female                     26\n",
       "Spirit                     17\n",
       "Unspecified Devil           9\n",
       "Male Fairy                  9\n",
       "Female Fairy                6\n",
       "Ghost                       5\n",
       "Fairy                       4\n",
       "Inanimate Object Devil      2\n",
       "Human Devil                 2\n",
       "Other Demon                 1\n",
       "Insect Devil                1\n",
       "Child Devil                 1\n",
       "Baby                        1\n",
       "Name: CaseRef, dtype: int64"
      ]
     },
     "execution_count": 49,
     "metadata": {},
     "output_type": "execute_result"
    }
   ],
   "source": [
    "devil_by_type.sort_values(ascending=False)"
   ]
  },
  {
   "cell_type": "code",
   "execution_count": null,
   "metadata": {
    "collapsed": true
   },
   "outputs": [],
   "source": []
  }
 ],
 "metadata": {
  "kernelspec": {
   "display_name": "Python 2",
   "language": "python",
   "name": "python2"
  },
  "language_info": {
   "codemirror_mode": {
    "name": "ipython",
    "version": 2
   },
   "file_extension": ".py",
   "mimetype": "text/x-python",
   "name": "python",
   "nbconvert_exporter": "python",
   "pygments_lexer": "ipython2",
   "version": "2.7.12"
  }
 },
 "nbformat": 4,
 "nbformat_minor": 0
}
